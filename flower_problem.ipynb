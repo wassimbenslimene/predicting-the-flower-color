{
  "nbformat": 4,
  "nbformat_minor": 0,
  "metadata": {
    "kernelspec": {
      "display_name": "Python 3",
      "language": "python",
      "name": "python3"
    },
    "language_info": {
      "codemirror_mode": {
        "name": "ipython",
        "version": 3
      },
      "file_extension": ".py",
      "mimetype": "text/x-python",
      "name": "python",
      "nbconvert_exporter": "python",
      "pygments_lexer": "ipython3",
      "version": "3.7.0"
    },
    "colab": {
      "name": "flower problem.ipynb",
      "provenance": [],
      "include_colab_link": true
    }
  },
  "cells": [
    {
      "cell_type": "markdown",
      "metadata": {
        "id": "view-in-github",
        "colab_type": "text"
      },
      "source": [
        "<a href=\"https://colab.research.google.com/github/wassimbenslimene/predicting-the-flower-color/blob/master/flower_problem.ipynb\" target=\"_parent\"><img src=\"https://colab.research.google.com/assets/colab-badge.svg\" alt=\"Open In Colab\"/></a>"
      ]
    },
    {
      "cell_type": "code",
      "metadata": {
        "id": "8XdPi7rZzDEU",
        "colab_type": "code",
        "colab": {}
      },
      "source": [
        "from matplotlib import pyplot as plt\n",
        "import numpy as np"
      ],
      "execution_count": 0,
      "outputs": []
    },
    {
      "cell_type": "code",
      "metadata": {
        "id": "89m3ixPWzDEe",
        "colab_type": "code",
        "colab": {}
      },
      "source": [
        "#each point is length,width,type(0.1)\n",
        "data=[[3,  1.5, 1],\n",
        "     [2,   1,   0],\n",
        "     [4,   1.5, 1],\n",
        "     [3,   1,   0],\n",
        "     [3.5, .5,  1],\n",
        "     [2,   .5,  0],\n",
        "     [5.5, 1,   1],\n",
        "     [1,   1,   0]]\n",
        "mystery_flower=[4.5,1]\n",
        "\n"
      ],
      "execution_count": 0,
      "outputs": []
    },
    {
      "cell_type": "code",
      "metadata": {
        "id": "oLAziIEjzDEi",
        "colab_type": "code",
        "colab": {}
      },
      "source": [
        "#network\n",
        "#   o     flowwer type\n",
        "#  / \\    w1,w2,b\n",
        "# o  o    length,width\n",
        "#w1=np.random.randn() #random number from the normal function\n",
        "#w2=np.random.randn()\n",
        "#b=np.random.randn()\n"
      ],
      "execution_count": 0,
      "outputs": []
    },
    {
      "cell_type": "code",
      "metadata": {
        "id": "Lx4NWIzCzDEr",
        "colab_type": "code",
        "colab": {}
      },
      "source": [
        "def sigmoid(x):\n",
        "    return 1/(1+np.exp(-x))\n",
        "def sigmoid_p(x):\n",
        "    return sigmoid(x)*(1-sigmoid(x))\n",
        "  "
      ],
      "execution_count": 0,
      "outputs": []
    },
    {
      "cell_type": "code",
      "metadata": {
        "id": "Ch_OtZytzDEy",
        "colab_type": "code",
        "colab": {},
        "outputId": "086e6e56-8d51-40a9-ea6f-a99038da8aee"
      },
      "source": [
        "t=np.linspace(-20,20,50)\n",
        "y=sigmoid(t)\n",
        "plt.plot(t,y,c='r')\n",
        "y_p=sigmoid_p(t)\n",
        "plt.plot(t,y_p,c='b')"
      ],
      "execution_count": 0,
      "outputs": [
        {
          "output_type": "execute_result",
          "data": {
            "text/plain": [
              "[<matplotlib.lines.Line2D at 0x1ec668e2400>]"
            ]
          },
          "metadata": {
            "tags": []
          },
          "execution_count": 53
        },
        {
          "output_type": "display_data",
          "data": {
            "image/png": "[encoded data removed]",
            "text/plain": [
              "<Figure size 432x288 with 1 Axes>"
            ]
          },
          "metadata": {
            "tags": [],
            "needs_background": "light"
          }
        }
      ]
    },
    {
      "cell_type": "code",
      "metadata": {
        "id": "CVLRoI_4zDE5",
        "colab_type": "code",
        "colab": {},
        "outputId": "7285b319-0d24-4b93-dc3c-502b79d8c83d"
      },
      "source": [
        "#scatter data\n",
        "plt.axis([0,6,0,6])# xmin xmax, ymin ymax\n",
        "plt.grid()\n",
        "for i in range(len(data)):\n",
        "    point=data[i]\n",
        "    color='r'\n",
        "    if point[2]==0:\n",
        "        color='b'\n",
        "    plt.scatter(point[0],point[1],c=color)"
      ],
      "execution_count": 0,
      "outputs": [
        {
          "output_type": "display_data",
          "data": {
            "image/png": "[encoded data removed]",
            "text/plain": [
              "<Figure size 432x288 with 1 Axes>"
            ]
          },
          "metadata": {
            "tags": [],
            "needs_background": "light"
          }
        }
      ]
    },
    {
      "cell_type": "code",
      "metadata": {
        "id": "jvOLkgGIzDE_",
        "colab_type": "code",
        "colab": {},
        "outputId": "c9cba7e7-d5b1-490e-8417-a463935cd289"
      },
      "source": [
        "learning_rate=0.2\n",
        "costs=[]\n",
        "w1=np.random.randn() #random number from the normal function\n",
        "w2=np.random.randn()\n",
        "b=np.random.randn()\n",
        "for j in range(0,50000) :\n",
        "    ri=np.random.randint(len(data))\n",
        "    point=data[ri]\n",
        "    \n",
        "    #feed forward\n",
        "    z=w1*point[0]+w2*point[1]+b  #feed forward ;the information moves in only one direction, forward, \n",
        "    pred=sigmoid(z)              #from the input nodes, through the hidden nodes\n",
        "    \n",
        "    target=point[2]\n",
        "    cost=np.square(pred-target)\n",
        "    \n",
        "    #if j%1000==0:\n",
        "    #     print(cost)\n",
        "    #costs.append(cost)\n",
        "    \n",
        "    dcost_pred=2*(pred-target)\n",
        "    dpred_dz=sigmoid_p(z)\n",
        "    dz_dw1=point[0]\n",
        "    dz_dw2=point[1]\n",
        "    dz_db=1\n",
        "    \n",
        "    dcost_dz=dcost_pred*dpred_dz\n",
        "    \n",
        "    dcost_dw1=dcost_dz*dz_dw1\n",
        "    dcost_dw2=dcost_dz*dz_dw2\n",
        "    dcost_db=dcost_dz*dz_db\n",
        "    \n",
        "    w1-=learning_rate*dcost_dw1\n",
        "    w2-=learning_rate*dcost_dw2\n",
        "    b-=learning_rate*dcost_db\n",
        "    cost_sum=0\n",
        "    for l in range(len(data)):\n",
        "        p=data[l]\n",
        "        s=p[0]*w1+p[1]*w2+b\n",
        "        predd=sigmoid(s)\n",
        "        cost_sum+=np.square(predd-p[2])\n",
        "    costs.append(cost_sum/len(data))    \n",
        "plt.plot(costs)    "
      ],
      "execution_count": 0,
      "outputs": [
        {
          "output_type": "execute_result",
          "data": {
            "text/plain": [
              "[<matplotlib.lines.Line2D at 0x1f2821ee0b8>]"
            ]
          },
          "metadata": {
            "tags": []
          },
          "execution_count": 21
        },
        {
          "output_type": "display_data",
          "data": {
            "image/png": "[encoded data removed]",
            "text/plain": [
              "<Figure size 432x288 with 1 Axes>"
            ]
          },
          "metadata": {
            "tags": [],
            "needs_background": "light"
          }
        }
      ]
    },
    {
      "cell_type": "code",
      "metadata": {
        "id": "Y_5oRwcHzDFH",
        "colab_type": "code",
        "colab": {},
        "outputId": "9cc132ef-c001-45cd-9dd9-901d04ec5c29"
      },
      "source": [
        "#seeing the predictions \n",
        "for l in range(len(data)):\n",
        "        p=data[l]\n",
        "        print(p)\n",
        "        s=p[0]*w1+p[1]*w2+b\n",
        "        pred=sigmoid(s)\n",
        "        print(\"pred: {}\".format(pred))\n",
        "        "
      ],
      "execution_count": 0,
      "outputs": [
        {
          "output_type": "stream",
          "text": [
            "[3, 1.5, 1]\n",
            "pred: 0.7760441538453648\n",
            "[2, 1, 0]\n",
            "pred: 0.0006840938836632336\n",
            "[4, 1.5, 1]\n",
            "pred: 0.9997150217655508\n",
            "[3, 1, 0]\n",
            "pred: 0.40934377554538515\n",
            "[3.5, 0.5, 1]\n",
            "pred: 0.8151621275948968\n",
            "[2, 0.5, 0]\n",
            "pred: 0.00013689350060556795\n",
            "[5.5, 1, 1]\n",
            "pred: 0.9999999557518287\n",
            "[1, 1, 0]\n",
            "pred: 6.76195249174062e-07\n"
          ],
          "name": "stdout"
        }
      ]
    },
    {
      "cell_type": "code",
      "metadata": {
        "id": "_TtcxNb_zDFM",
        "colab_type": "code",
        "colab": {},
        "outputId": "ad4413ef-38de-483a-8050-976228ec0ae2"
      },
      "source": [
        "m=mystery_flower[0]*w1+mystery_flower[1]*w2+b\n",
        "pred=sigmoid(m)\n",
        "pred"
      ],
      "execution_count": 0,
      "outputs": [
        {
          "output_type": "execute_result",
          "data": {
            "text/plain": [
              "0.9999552063561951"
            ]
          },
          "metadata": {
            "tags": []
          },
          "execution_count": 41
        }
      ]
    },
    {
      "cell_type": "code",
      "metadata": {
        "id": "sxHlZ9-ezDFP",
        "colab_type": "code",
        "colab": {}
      },
      "source": [
        "import win32com.client as wincl\n",
        "speak = wincl.Dispatch(\"SAPI.SpVoice\")"
      ],
      "execution_count": 0,
      "outputs": []
    },
    {
      "cell_type": "code",
      "metadata": {
        "id": "213xm1vWzDFT",
        "colab_type": "code",
        "colab": {}
      },
      "source": [
        "def which_flower(length,width):\n",
        "    z=length*w1+width*w2+b\n",
        "    pred=sigmoid(z)\n",
        "    if pred<.5:\n",
        "        speak.speak(\"blue\")\n",
        "    else:\n",
        "        speak.speak(\"red\")\n"
      ],
      "execution_count": 0,
      "outputs": []
    },
    {
      "cell_type": "code",
      "metadata": {
        "id": "xonzpfgPzDFX",
        "colab_type": "code",
        "colab": {}
      },
      "source": [
        "which_flower(4,1.5)"
      ],
      "execution_count": 0,
      "outputs": []
    },
    {
      "cell_type": "code",
      "metadata": {
        "id": "rIxCwIcdzDFb",
        "colab_type": "code",
        "colab": {},
        "outputId": "5a38f98e-861f-42a4-f6df-7b3b9d14186d"
      },
      "source": [
        "print('vhjgh')"
      ],
      "execution_count": 0,
      "outputs": [
        {
          "output_type": "stream",
          "text": [
            "vhjgh\n"
          ],
          "name": "stdout"
        }
      ]
    }
  ]
}